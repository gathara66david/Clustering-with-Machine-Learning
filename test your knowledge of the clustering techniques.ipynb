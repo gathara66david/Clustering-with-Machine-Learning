{
 "cells": [
  {
   "cell_type": "code",
   "execution_count": null,
   "metadata": {
    "vscode": {
     "languageId": "plaintext"
    }
   },
   "outputs": [],
   "source": [
    "\"\"\"To test your knowledge of the clustering techniques we've learned, try\n",
    " clustering the full housing dataset or a bigger sample of the housing dataset,\n",
    " available in the GitHub repository for this book under \n",
    "Chapter17/data .\n",
    " You should be able to use some of the methods we learned (k-means,\n",
    " hierarchical clustering, DBSCAN) and be able to optimize the\n",
    " hyperparameters (such as the number of clusters) by using an elbow plot or\n",
    " other metrics, such as the silhouette score.\"\"\""
   ]
  }
 ],
 "metadata": {
  "language_info": {
   "name": "python"
  }
 },
 "nbformat": 4,
 "nbformat_minor": 2
}
